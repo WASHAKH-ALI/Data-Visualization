{
 "cells": [
  {
   "cell_type": "markdown",
   "id": "2f78ddaa",
   "metadata": {
    "papermill": {
     "duration": 0.013005,
     "end_time": "2022-09-23T12:25:47.652865",
     "exception": false,
     "start_time": "2022-09-23T12:25:47.639860",
     "status": "completed"
    },
    "tags": []
   },
   "source": [
    "**This notebook is an exercise in the [Data Visualization](https://www.kaggle.com/learn/data-visualization) course.  You can reference the tutorial at [this link](https://www.kaggle.com/alexisbcook/scatter-plots).**\n",
    "\n",
    "---\n"
   ]
  },
  {
   "cell_type": "markdown",
   "id": "4193c63e",
   "metadata": {
    "papermill": {
     "duration": 0.008382,
     "end_time": "2022-09-23T12:25:47.670199",
     "exception": false,
     "start_time": "2022-09-23T12:25:47.661817",
     "status": "completed"
    },
    "tags": []
   },
   "source": [
    "In this exercise, you will use your new knowledge to propose a solution to a real-world scenario.  To succeed, you will need to import data into Python, answer questions using the data, and generate **scatter plots** to understand patterns in the data.\n",
    "\n",
    "## Scenario\n",
    "\n",
    "You work for a major candy producer, and your goal is to write a report that your company can use to guide the design of its next product.  Soon after starting your research, you stumble across this [very interesting dataset](https://fivethirtyeight.com/features/the-ultimate-halloween-candy-power-ranking/) containing results from a fun survey to crowdsource favorite candies.\n",
    "\n",
    "## Setup\n",
    "\n",
    "Run the next cell to import and configure the Python libraries that you need to complete the exercise."
   ]
  },
  {
   "cell_type": "code",
   "execution_count": 1,
   "id": "017444f6",
   "metadata": {
    "execution": {
     "iopub.execute_input": "2022-09-23T12:25:47.690796Z",
     "iopub.status.busy": "2022-09-23T12:25:47.690093Z",
     "iopub.status.idle": "2022-09-23T12:25:48.864979Z",
     "shell.execute_reply": "2022-09-23T12:25:48.863530Z"
    },
    "papermill": {
     "duration": 1.18908,
     "end_time": "2022-09-23T12:25:48.868503",
     "exception": false,
     "start_time": "2022-09-23T12:25:47.679423",
     "status": "completed"
    },
    "tags": []
   },
   "outputs": [
    {
     "name": "stdout",
     "output_type": "stream",
     "text": [
      "Setup Complete\n"
     ]
    }
   ],
   "source": [
    "import pandas as pd\n",
    "pd.plotting.register_matplotlib_converters()\n",
    "import matplotlib.pyplot as plt\n",
    "%matplotlib inline\n",
    "import seaborn as sns\n",
    "print(\"Setup Complete\")"
   ]
  },
  {
   "cell_type": "markdown",
   "id": "71034fa7",
   "metadata": {
    "papermill": {
     "duration": 0.008675,
     "end_time": "2022-09-23T12:25:48.886454",
     "exception": false,
     "start_time": "2022-09-23T12:25:48.877779",
     "status": "completed"
    },
    "tags": []
   },
   "source": [
    "The questions below will give you feedback on your work. Run the following cell to set up our feedback system."
   ]
  },
  {
   "cell_type": "code",
   "execution_count": 2,
   "id": "a0855221",
   "metadata": {
    "execution": {
     "iopub.execute_input": "2022-09-23T12:25:48.905592Z",
     "iopub.status.busy": "2022-09-23T12:25:48.905189Z",
     "iopub.status.idle": "2022-09-23T12:25:48.979849Z",
     "shell.execute_reply": "2022-09-23T12:25:48.978367Z"
    },
    "papermill": {
     "duration": 0.087118,
     "end_time": "2022-09-23T12:25:48.982383",
     "exception": false,
     "start_time": "2022-09-23T12:25:48.895265",
     "status": "completed"
    },
    "tags": []
   },
   "outputs": [
    {
     "name": "stdout",
     "output_type": "stream",
     "text": [
      "Setup Complete\n"
     ]
    }
   ],
   "source": [
    "# Set up code checking\n",
    "import os\n",
    "if not os.path.exists(\"../input/candy.csv\"):\n",
    "    os.symlink(\"../input/data-for-datavis/candy.csv\", \"../input/candy.csv\") \n",
    "from learntools.core import binder\n",
    "binder.bind(globals())\n",
    "from learntools.data_viz_to_coder.ex4 import *\n",
    "print(\"Setup Complete\")"
   ]
  },
  {
   "cell_type": "markdown",
   "id": "da34040e",
   "metadata": {
    "papermill": {
     "duration": 0.008832,
     "end_time": "2022-09-23T12:25:49.001564",
     "exception": false,
     "start_time": "2022-09-23T12:25:48.992732",
     "status": "completed"
    },
    "tags": []
   },
   "source": [
    "## Step 1: Load the Data\n",
    "\n",
    "Read the candy data file into `candy_data`.  Use the `\"id\"` column to label the rows."
   ]
  },
  {
   "cell_type": "code",
   "execution_count": 3,
   "id": "5ff1d7e7",
   "metadata": {
    "execution": {
     "iopub.execute_input": "2022-09-23T12:25:49.021845Z",
     "iopub.status.busy": "2022-09-23T12:25:49.020823Z",
     "iopub.status.idle": "2022-09-23T12:25:49.037248Z",
     "shell.execute_reply": "2022-09-23T12:25:49.036302Z"
    },
    "papermill": {
     "duration": 0.028815,
     "end_time": "2022-09-23T12:25:49.039394",
     "exception": false,
     "start_time": "2022-09-23T12:25:49.010579",
     "status": "completed"
    },
    "tags": []
   },
   "outputs": [
    {
     "data": {
      "application/javascript": [
       "parent.postMessage({\"jupyterEvent\": \"custom.exercise_interaction\", \"data\": {\"outcomeType\": 1, \"valueTowardsCompletion\": 0.3333333333333333, \"interactionType\": 1, \"questionType\": 1, \"questionId\": \"1_LoadData\", \"learnToolsVersion\": \"0.3.4\", \"failureMessage\": \"\", \"exceptionClass\": \"\", \"trace\": \"\"}}, \"*\")"
      ],
      "text/plain": [
       "<IPython.core.display.Javascript object>"
      ]
     },
     "metadata": {},
     "output_type": "display_data"
    },
    {
     "data": {
      "text/markdown": [
       "<span style=\"color:#33cc33\">Correct</span>"
      ],
      "text/plain": [
       "Correct"
      ]
     },
     "metadata": {},
     "output_type": "display_data"
    }
   ],
   "source": [
    "# Path of the file to read\n",
    "candy_filepath = \"../input/candy.csv\"\n",
    "\n",
    "# Fill in the line below to read the file into a variable candy_data\n",
    "candy_data =pd.read_csv(candy_filepath, index_col=\"id\")\n",
    "\n",
    "# Run the line below with no changes to check that you've loaded the data correctly\n",
    "step_1.check()"
   ]
  },
  {
   "cell_type": "code",
   "execution_count": 4,
   "id": "454c6830",
   "metadata": {
    "execution": {
     "iopub.execute_input": "2022-09-23T12:25:49.059756Z",
     "iopub.status.busy": "2022-09-23T12:25:49.059014Z",
     "iopub.status.idle": "2022-09-23T12:25:49.066426Z",
     "shell.execute_reply": "2022-09-23T12:25:49.065507Z"
    },
    "papermill": {
     "duration": 0.019946,
     "end_time": "2022-09-23T12:25:49.068535",
     "exception": false,
     "start_time": "2022-09-23T12:25:49.048589",
     "status": "completed"
    },
    "tags": []
   },
   "outputs": [
    {
     "data": {
      "application/javascript": [
       "parent.postMessage({\"jupyterEvent\": \"custom.exercise_interaction\", \"data\": {\"interactionType\": 3, \"questionType\": 1, \"questionId\": \"1_LoadData\", \"learnToolsVersion\": \"0.3.4\", \"valueTowardsCompletion\": 0.0, \"failureMessage\": \"\", \"exceptionClass\": \"\", \"trace\": \"\", \"outcomeType\": 4}}, \"*\")"
      ],
      "text/plain": [
       "<IPython.core.display.Javascript object>"
      ]
     },
     "metadata": {},
     "output_type": "display_data"
    },
    {
     "data": {
      "text/markdown": [
       "<span style=\"color:#33cc99\">Solution:</span> \n",
       "```python\n",
       "candy_data = pd.read_csv(candy_filepath, index_col=\"id\")\n",
       "```"
      ],
      "text/plain": [
       "Solution: \n",
       "```python\n",
       "candy_data = pd.read_csv(candy_filepath, index_col=\"id\")\n",
       "```"
      ]
     },
     "metadata": {},
     "output_type": "display_data"
    }
   ],
   "source": [
    "# Lines below will give you a hint or solution code\n",
    "#step_1.hint()\n",
    "step_1.solution()"
   ]
  },
  {
   "cell_type": "markdown",
   "id": "bb41d5dc",
   "metadata": {
    "papermill": {
     "duration": 0.008974,
     "end_time": "2022-09-23T12:25:49.086785",
     "exception": false,
     "start_time": "2022-09-23T12:25:49.077811",
     "status": "completed"
    },
    "tags": []
   },
   "source": [
    "## Step 2: Review the data\n",
    "\n",
    "Use a Python command to print the first five rows of the data."
   ]
  },
  {
   "cell_type": "code",
   "execution_count": 5,
   "id": "5547c3bb",
   "metadata": {
    "execution": {
     "iopub.execute_input": "2022-09-23T12:25:49.107676Z",
     "iopub.status.busy": "2022-09-23T12:25:49.106692Z",
     "iopub.status.idle": "2022-09-23T12:25:49.123004Z",
     "shell.execute_reply": "2022-09-23T12:25:49.121513Z"
    },
    "papermill": {
     "duration": 0.030681,
     "end_time": "2022-09-23T12:25:49.126807",
     "exception": false,
     "start_time": "2022-09-23T12:25:49.096126",
     "status": "completed"
    },
    "tags": []
   },
   "outputs": [
    {
     "name": "stdout",
     "output_type": "stream",
     "text": [
      "                competitorname chocolate fruity caramel peanutyalmondy nougat  \\\n",
      "id                                                                              \n",
      "0                    100 Grand       Yes     No     Yes             No     No   \n",
      "1                 3 Musketeers       Yes     No      No             No    Yes   \n",
      "2                    Air Heads        No    Yes      No             No     No   \n",
      "3                   Almond Joy       Yes     No      No            Yes     No   \n",
      "4                    Baby Ruth       Yes     No     Yes            Yes    Yes   \n",
      "..                         ...       ...    ...     ...            ...    ...   \n",
      "78                   Twizzlers        No    Yes      No             No     No   \n",
      "79                    Warheads        No    Yes      No             No     No   \n",
      "80        Welch's Fruit Snacks        No    Yes      No             No     No   \n",
      "81  Werther's Original Caramel        No     No     Yes             No     No   \n",
      "82                    Whoppers       Yes     No      No             No     No   \n",
      "\n",
      "   crispedricewafer hard  bar pluribus  sugarpercent  pricepercent  winpercent  \n",
      "id                                                                              \n",
      "0               Yes   No  Yes       No         0.732         0.860   66.971725  \n",
      "1                No   No  Yes       No         0.604         0.511   67.602936  \n",
      "2                No   No   No       No         0.906         0.511   52.341465  \n",
      "3                No   No  Yes       No         0.465         0.767   50.347546  \n",
      "4                No   No  Yes       No         0.604         0.767   56.914547  \n",
      "..              ...  ...  ...      ...           ...           ...         ...  \n",
      "78               No   No   No       No         0.220         0.116   45.466282  \n",
      "79               No  Yes   No       No         0.093         0.116   39.011898  \n",
      "80               No   No   No      Yes         0.313         0.313   44.375519  \n",
      "81               No  Yes   No       No         0.186         0.267   41.904308  \n",
      "82              Yes   No   No      Yes         0.872         0.848   49.524113  \n",
      "\n",
      "[83 rows x 13 columns]\n"
     ]
    }
   ],
   "source": [
    "# Print the first five rows of the data\n",
    "print(candy_data)"
   ]
  },
  {
   "cell_type": "markdown",
   "id": "4447adc9",
   "metadata": {
    "papermill": {
     "duration": 0.009505,
     "end_time": "2022-09-23T12:25:49.146295",
     "exception": false,
     "start_time": "2022-09-23T12:25:49.136790",
     "status": "completed"
    },
    "tags": []
   },
   "source": [
    "The dataset contains 83 rows, where each corresponds to a different candy bar.  There are 13 columns:\n",
    "- `'competitorname'` contains the name of the candy bar. \n",
    "- the next **9** columns (from `'chocolate'` to `'pluribus'`) describe the candy.  For instance, rows with chocolate candies have `\"Yes\"` in the `'chocolate'` column (and candies without chocolate have `\"No\"` in the same column).\n",
    "- `'sugarpercent'` provides some indication of the amount of sugar, where higher values signify higher sugar content.\n",
    "- `'pricepercent'` shows the price per unit, relative to the other candies in the dataset.\n",
    "- `'winpercent'` is calculated from the survey results; higher values indicate that the candy was more popular with survey respondents.\n",
    "\n",
    "Use the first five rows of the data to answer the questions below."
   ]
  },
  {
   "cell_type": "code",
   "execution_count": 6,
   "id": "4e32c1aa",
   "metadata": {
    "execution": {
     "iopub.execute_input": "2022-09-23T12:25:49.167390Z",
     "iopub.status.busy": "2022-09-23T12:25:49.166269Z",
     "iopub.status.idle": "2022-09-23T12:25:49.176224Z",
     "shell.execute_reply": "2022-09-23T12:25:49.174957Z"
    },
    "papermill": {
     "duration": 0.022744,
     "end_time": "2022-09-23T12:25:49.178418",
     "exception": false,
     "start_time": "2022-09-23T12:25:49.155674",
     "status": "completed"
    },
    "tags": []
   },
   "outputs": [
    {
     "data": {
      "application/javascript": [
       "parent.postMessage({\"jupyterEvent\": \"custom.exercise_interaction\", \"data\": {\"outcomeType\": 1, \"valueTowardsCompletion\": 0.3333333333333333, \"interactionType\": 1, \"questionType\": 1, \"questionId\": \"2_ReviewData\", \"learnToolsVersion\": \"0.3.4\", \"failureMessage\": \"\", \"exceptionClass\": \"\", \"trace\": \"\"}}, \"*\")"
      ],
      "text/plain": [
       "<IPython.core.display.Javascript object>"
      ]
     },
     "metadata": {},
     "output_type": "display_data"
    },
    {
     "data": {
      "text/markdown": [
       "<span style=\"color:#33cc33\">Correct</span>"
      ],
      "text/plain": [
       "Correct"
      ]
     },
     "metadata": {},
     "output_type": "display_data"
    }
   ],
   "source": [
    "# Fill in the line below: Which candy was more popular with survey respondents:\n",
    "# '3 Musketeers' or 'Almond Joy'?  (Please enclose your answer in single quotes.)\n",
    "more_popular =  '3 Musketeers'\n",
    "\n",
    "# Fill in the line below: Which candy has higher sugar content: 'Air Heads'\n",
    "# or 'Baby Ruth'? (Please enclose your answer in single quotes.)\n",
    "more_sugar = 'Air Heads'\n",
    "# Check your answers\n",
    "step_2.check()"
   ]
  },
  {
   "cell_type": "code",
   "execution_count": 7,
   "id": "5e7fef2b",
   "metadata": {
    "execution": {
     "iopub.execute_input": "2022-09-23T12:25:49.200248Z",
     "iopub.status.busy": "2022-09-23T12:25:49.199350Z",
     "iopub.status.idle": "2022-09-23T12:25:49.203875Z",
     "shell.execute_reply": "2022-09-23T12:25:49.203025Z"
    },
    "papermill": {
     "duration": 0.017728,
     "end_time": "2022-09-23T12:25:49.206063",
     "exception": false,
     "start_time": "2022-09-23T12:25:49.188335",
     "status": "completed"
    },
    "tags": []
   },
   "outputs": [],
   "source": [
    "# Lines below will give you a hint or solution code\n",
    "#step_2.hint()\n",
    "#step_2.solution()"
   ]
  },
  {
   "cell_type": "markdown",
   "id": "313062b6",
   "metadata": {
    "papermill": {
     "duration": 0.009386,
     "end_time": "2022-09-23T12:25:49.225128",
     "exception": false,
     "start_time": "2022-09-23T12:25:49.215742",
     "status": "completed"
    },
    "tags": []
   },
   "source": [
    "## Step 3: The role of sugar\n",
    "\n",
    "Do people tend to prefer candies with higher sugar content?  \n",
    "\n",
    "#### Part A\n",
    "\n",
    "Create a scatter plot that shows the relationship between `'sugarpercent'` (on the horizontal x-axis) and `'winpercent'` (on the vertical y-axis).  _Don't add a regression line just yet -- you'll do that in the next step!_"
   ]
  },
  {
   "cell_type": "code",
   "execution_count": 8,
   "id": "6ff7b9dc",
   "metadata": {
    "execution": {
     "iopub.execute_input": "2022-09-23T12:25:49.246182Z",
     "iopub.status.busy": "2022-09-23T12:25:49.245759Z",
     "iopub.status.idle": "2022-09-23T12:25:49.508965Z",
     "shell.execute_reply": "2022-09-23T12:25:49.507847Z"
    },
    "papermill": {
     "duration": 0.276812,
     "end_time": "2022-09-23T12:25:49.511519",
     "exception": false,
     "start_time": "2022-09-23T12:25:49.234707",
     "status": "completed"
    },
    "tags": []
   },
   "outputs": [
    {
     "data": {
      "application/javascript": [
       "parent.postMessage({\"jupyterEvent\": \"custom.exercise_interaction\", \"data\": {\"outcomeType\": 1, \"valueTowardsCompletion\": 0.3333333333333333, \"interactionType\": 1, \"questionType\": 2, \"questionId\": \"3.1_PlotBlueScatter\", \"learnToolsVersion\": \"0.3.4\", \"failureMessage\": \"\", \"exceptionClass\": \"\", \"trace\": \"\"}}, \"*\")"
      ],
      "text/plain": [
       "<IPython.core.display.Javascript object>"
      ]
     },
     "metadata": {},
     "output_type": "display_data"
    },
    {
     "data": {
      "text/markdown": [
       "<span style=\"color:#33cc33\">Correct</span>"
      ],
      "text/plain": [
       "Correct"
      ]
     },
     "metadata": {},
     "output_type": "display_data"
    },
    {
     "data": {
      "image/png": "[encoded data removed]",
      "text/plain": [
       "<Figure size 432x288 with 1 Axes>"
      ]
     },
     "metadata": {
      "needs_background": "light"
     },
     "output_type": "display_data"
    }
   ],
   "source": [
    "# Scatter plot showing the relationship between 'sugarpercent' and 'winpercent'\n",
    "sns.scatterplot(x=candy_data['sugarpercent'], y=candy_data['winpercent'])\n",
    "\n",
    "# Check your answer\n",
    "step_3.a.check()"
   ]
  },
  {
   "cell_type": "code",
   "execution_count": 9,
   "id": "2bdb1b26",
   "metadata": {
    "execution": {
     "iopub.execute_input": "2022-09-23T12:25:49.533516Z",
     "iopub.status.busy": "2022-09-23T12:25:49.533058Z",
     "iopub.status.idle": "2022-09-23T12:25:49.537964Z",
     "shell.execute_reply": "2022-09-23T12:25:49.536753Z"
    },
    "papermill": {
     "duration": 0.018416,
     "end_time": "2022-09-23T12:25:49.540182",
     "exception": false,
     "start_time": "2022-09-23T12:25:49.521766",
     "status": "completed"
    },
    "tags": []
   },
   "outputs": [],
   "source": [
    "# Lines below will give you a hint or solution code\n",
    "#step_3.a.hint()\n",
    "#step_3.a.solution_plot()"
   ]
  },
  {
   "cell_type": "markdown",
   "id": "33ac702e",
   "metadata": {
    "papermill": {
     "duration": 0.009734,
     "end_time": "2022-09-23T12:25:49.560125",
     "exception": false,
     "start_time": "2022-09-23T12:25:49.550391",
     "status": "completed"
    },
    "tags": []
   },
   "source": [
    "#### Part B\n",
    "\n",
    "Does the scatter plot show a **strong** correlation between the two variables?  If so, are candies with more sugar relatively more or less popular with the survey respondents?"
   ]
  },
  {
   "cell_type": "code",
   "execution_count": 10,
   "id": "f6c936cd",
   "metadata": {
    "execution": {
     "iopub.execute_input": "2022-09-23T12:25:49.581761Z",
     "iopub.status.busy": "2022-09-23T12:25:49.581361Z",
     "iopub.status.idle": "2022-09-23T12:25:49.593907Z",
     "shell.execute_reply": "2022-09-23T12:25:49.592020Z"
    },
    "papermill": {
     "duration": 0.026837,
     "end_time": "2022-09-23T12:25:49.597049",
     "exception": false,
     "start_time": "2022-09-23T12:25:49.570212",
     "status": "completed"
    },
    "tags": []
   },
   "outputs": [
    {
     "data": {
      "application/javascript": [
       "parent.postMessage({\"jupyterEvent\": \"custom.exercise_interaction\", \"data\": {\"interactionType\": 2, \"questionType\": 4, \"questionId\": \"3.2_ThinkBlueScatter\", \"learnToolsVersion\": \"0.3.4\", \"valueTowardsCompletion\": 0.0, \"failureMessage\": \"\", \"exceptionClass\": \"\", \"trace\": \"\", \"outcomeType\": 4}}, \"*\")"
      ],
      "text/plain": [
       "<IPython.core.display.Javascript object>"
      ]
     },
     "metadata": {},
     "output_type": "display_data"
    },
    {
     "data": {
      "text/markdown": [
       "<span style=\"color:#3366cc\">Hint:</span> Compare candies with higher sugar content (on the right side of the chart) to candies with lower sugar content (on the left side of the chart). Is one group clearly more popular than the other?"
      ],
      "text/plain": [
       "Hint: Compare candies with higher sugar content (on the right side of the chart) to candies with lower sugar content (on the left side of the chart). Is one group clearly more popular than the other?"
      ]
     },
     "metadata": {},
     "output_type": "display_data"
    }
   ],
   "source": [
    "step_3.b.hint()"
   ]
  },
  {
   "cell_type": "code",
   "execution_count": 11,
   "id": "b2697b5c",
   "metadata": {
    "execution": {
     "iopub.execute_input": "2022-09-23T12:25:49.626702Z",
     "iopub.status.busy": "2022-09-23T12:25:49.625300Z",
     "iopub.status.idle": "2022-09-23T12:25:49.636980Z",
     "shell.execute_reply": "2022-09-23T12:25:49.634258Z"
    },
    "papermill": {
     "duration": 0.028494,
     "end_time": "2022-09-23T12:25:49.639981",
     "exception": false,
     "start_time": "2022-09-23T12:25:49.611487",
     "status": "completed"
    },
    "tags": []
   },
   "outputs": [
    {
     "data": {
      "application/javascript": [
       "parent.postMessage({\"jupyterEvent\": \"custom.exercise_interaction\", \"data\": {\"interactionType\": 3, \"questionType\": 4, \"questionId\": \"3.2_ThinkBlueScatter\", \"learnToolsVersion\": \"0.3.4\", \"valueTowardsCompletion\": 0.0, \"failureMessage\": \"\", \"exceptionClass\": \"\", \"trace\": \"\", \"outcomeType\": 4}}, \"*\")"
      ],
      "text/plain": [
       "<IPython.core.display.Javascript object>"
      ]
     },
     "metadata": {},
     "output_type": "display_data"
    },
    {
     "data": {
      "text/markdown": [
       "<span style=\"color:#33cc99\">Solution:</span> The scatter plot does not show a strong correlation between the two variables. Since there is no clear relationship between the two variables, this tells us that sugar content does not play a strong role in candy popularity."
      ],
      "text/plain": [
       "Solution: The scatter plot does not show a strong correlation between the two variables. Since there is no clear relationship between the two variables, this tells us that sugar content does not play a strong role in candy popularity."
      ]
     },
     "metadata": {},
     "output_type": "display_data"
    }
   ],
   "source": [
    "# Check your answer (Run this code cell to receive credit!)\n",
    "step_3.b.solution()"
   ]
  },
  {
   "cell_type": "markdown",
   "id": "85d00ea5",
   "metadata": {
    "papermill": {
     "duration": 0.010867,
     "end_time": "2022-09-23T12:25:49.663562",
     "exception": false,
     "start_time": "2022-09-23T12:25:49.652695",
     "status": "completed"
    },
    "tags": []
   },
   "source": [
    "## Step 4: Take a closer look\n",
    "\n",
    "#### Part A\n",
    "\n",
    "Create the same scatter plot you created in **Step 3**, but now with a regression line!"
   ]
  },
  {
   "cell_type": "code",
   "execution_count": 12,
   "id": "76eb6569",
   "metadata": {
    "execution": {
     "iopub.execute_input": "2022-09-23T12:25:49.692800Z",
     "iopub.status.busy": "2022-09-23T12:25:49.692009Z",
     "iopub.status.idle": "2022-09-23T12:25:50.021165Z",
     "shell.execute_reply": "2022-09-23T12:25:50.019696Z"
    },
    "papermill": {
     "duration": 0.346846,
     "end_time": "2022-09-23T12:25:50.024131",
     "exception": false,
     "start_time": "2022-09-23T12:25:49.677285",
     "status": "completed"
    },
    "tags": []
   },
   "outputs": [
    {
     "data": {
      "application/javascript": [
       "parent.postMessage({\"jupyterEvent\": \"custom.exercise_interaction\", \"data\": {\"outcomeType\": 1, \"valueTowardsCompletion\": 0.3333333333333333, \"interactionType\": 1, \"questionType\": 2, \"questionId\": \"4.1_PlotBlueReg\", \"learnToolsVersion\": \"0.3.4\", \"failureMessage\": \"\", \"exceptionClass\": \"\", \"trace\": \"\"}}, \"*\")"
      ],
      "text/plain": [
       "<IPython.core.display.Javascript object>"
      ]
     },
     "metadata": {},
     "output_type": "display_data"
    },
    {
     "data": {
      "text/markdown": [
       "<span style=\"color:#33cc33\">Correct</span>"
      ],
      "text/plain": [
       "Correct"
      ]
     },
     "metadata": {},
     "output_type": "display_data"
    },
    {
     "data": {
      "image/png": "[encoded data removed]",
      "text/plain": [
       "<Figure size 432x288 with 1 Axes>"
      ]
     },
     "metadata": {
      "needs_background": "light"
     },
     "output_type": "display_data"
    }
   ],
   "source": [
    "# Scatter plot w/ regression line showing the relationship between 'sugarpercent' and 'winpercent'\n",
    "sns.regplot(x=candy_data['sugarpercent'], y=candy_data['winpercent'])\n",
    "\n",
    "# Check your answer\n",
    "step_4.a.check()"
   ]
  },
  {
   "cell_type": "code",
   "execution_count": 13,
   "id": "8dfc5aac",
   "metadata": {
    "execution": {
     "iopub.execute_input": "2022-09-23T12:25:50.051210Z",
     "iopub.status.busy": "2022-09-23T12:25:50.049977Z",
     "iopub.status.idle": "2022-09-23T12:25:50.368036Z",
     "shell.execute_reply": "2022-09-23T12:25:50.366676Z"
    },
    "papermill": {
     "duration": 0.334258,
     "end_time": "2022-09-23T12:25:50.370986",
     "exception": false,
     "start_time": "2022-09-23T12:25:50.036728",
     "status": "completed"
    },
    "tags": []
   },
   "outputs": [
    {
     "data": {
      "application/javascript": [
       "parent.postMessage({\"jupyterEvent\": \"custom.exercise_interaction\", \"data\": {\"interactionType\": 3, \"questionType\": 2, \"questionId\": \"4.1_PlotBlueReg\", \"learnToolsVersion\": \"0.3.4\", \"valueTowardsCompletion\": 0.0, \"failureMessage\": \"\", \"exceptionClass\": \"\", \"trace\": \"\", \"outcomeType\": 4}}, \"*\")"
      ],
      "text/plain": [
       "<IPython.core.display.Javascript object>"
      ]
     },
     "metadata": {},
     "output_type": "display_data"
    },
    {
     "data": {
      "text/markdown": [
       "<span style=\"color:#33cc99\">Solution:</span> \n",
       "```python\n",
       "# Scatter plot w/ regression line showing the relationship between 'sugarpercent' and 'winpercent'\n",
       "sns.regplot(x=candy_data['sugarpercent'], y=candy_data['winpercent'])\n",
       "\n",
       "```"
      ],
      "text/plain": [
       "Solution: \n",
       "```python\n",
       "# Scatter plot w/ regression line showing the relationship between 'sugarpercent' and 'winpercent'\n",
       "sns.regplot(x=candy_data['sugarpercent'], y=candy_data['winpercent'])\n",
       "\n",
       "```"
      ]
     },
     "metadata": {},
     "output_type": "display_data"
    },
    {
     "data": {
      "image/png": "[encoded data removed]",
      "text/plain": [
       "<Figure size 432x288 with 1 Axes>"
      ]
     },
     "metadata": {
      "needs_background": "light"
     },
     "output_type": "display_data"
    }
   ],
   "source": [
    "# Lines below will give you a hint or solution code\n",
    "#step_4.a.hint()\n",
    "step_4.a.solution_plot()"
   ]
  },
  {
   "cell_type": "markdown",
   "id": "7ca4cf43",
   "metadata": {
    "papermill": {
     "duration": 0.011929,
     "end_time": "2022-09-23T12:25:50.395844",
     "exception": false,
     "start_time": "2022-09-23T12:25:50.383915",
     "status": "completed"
    },
    "tags": []
   },
   "source": [
    "#### Part B\n",
    "\n",
    "According to the plot above, is there a **slight** correlation between `'winpercent'` and `'sugarpercent'`?  What does this tell you about the candy that people tend to prefer?"
   ]
  },
  {
   "cell_type": "code",
   "execution_count": 14,
   "id": "c5ea83a8",
   "metadata": {
    "execution": {
     "iopub.execute_input": "2022-09-23T12:25:50.422753Z",
     "iopub.status.busy": "2022-09-23T12:25:50.422060Z",
     "iopub.status.idle": "2022-09-23T12:25:50.426135Z",
     "shell.execute_reply": "2022-09-23T12:25:50.425226Z"
    },
    "papermill": {
     "duration": 0.020229,
     "end_time": "2022-09-23T12:25:50.428441",
     "exception": false,
     "start_time": "2022-09-23T12:25:50.408212",
     "status": "completed"
    },
    "tags": []
   },
   "outputs": [],
   "source": [
    "#step_4.b.hint()"
   ]
  },
  {
   "cell_type": "code",
   "execution_count": 15,
   "id": "2b4dcb97",
   "metadata": {
    "execution": {
     "iopub.execute_input": "2022-09-23T12:25:50.455399Z",
     "iopub.status.busy": "2022-09-23T12:25:50.454748Z",
     "iopub.status.idle": "2022-09-23T12:25:50.463659Z",
     "shell.execute_reply": "2022-09-23T12:25:50.462435Z"
    },
    "papermill": {
     "duration": 0.024909,
     "end_time": "2022-09-23T12:25:50.465941",
     "exception": false,
     "start_time": "2022-09-23T12:25:50.441032",
     "status": "completed"
    },
    "tags": []
   },
   "outputs": [
    {
     "data": {
      "application/javascript": [
       "parent.postMessage({\"jupyterEvent\": \"custom.exercise_interaction\", \"data\": {\"interactionType\": 3, \"questionType\": 4, \"questionId\": \"4.2_ThinkBlueReg\", \"learnToolsVersion\": \"0.3.4\", \"valueTowardsCompletion\": 0.0, \"failureMessage\": \"\", \"exceptionClass\": \"\", \"trace\": \"\", \"outcomeType\": 4}}, \"*\")"
      ],
      "text/plain": [
       "<IPython.core.display.Javascript object>"
      ]
     },
     "metadata": {},
     "output_type": "display_data"
    },
    {
     "data": {
      "text/markdown": [
       "<span style=\"color:#33cc99\">Solution:</span> Since the regression line has a slightly positive slope, this tells us that there is a slightly positive correlation between `'winpercent'` and `'sugarpercent'`. Thus, people have a slight preference for candies containing relatively more sugar."
      ],
      "text/plain": [
       "Solution: Since the regression line has a slightly positive slope, this tells us that there is a slightly positive correlation between `'winpercent'` and `'sugarpercent'`. Thus, people have a slight preference for candies containing relatively more sugar."
      ]
     },
     "metadata": {},
     "output_type": "display_data"
    }
   ],
   "source": [
    "# Check your answer (Run this code cell to receive credit!)\n",
    "step_4.b.solution()"
   ]
  },
  {
   "cell_type": "markdown",
   "id": "9759f36f",
   "metadata": {
    "papermill": {
     "duration": 0.012545,
     "end_time": "2022-09-23T12:25:50.491402",
     "exception": false,
     "start_time": "2022-09-23T12:25:50.478857",
     "status": "completed"
    },
    "tags": []
   },
   "source": [
    "## Step 5: Chocolate!\n",
    "\n",
    "In the code cell below, create a scatter plot to show the relationship between `'pricepercent'` (on the horizontal x-axis) and `'winpercent'` (on the vertical y-axis). Use the `'chocolate'` column to color-code the points.  _Don't add any regression lines just yet -- you'll do that in the next step!_"
   ]
  },
  {
   "cell_type": "code",
   "execution_count": 16,
   "id": "a8fad5ab",
   "metadata": {
    "execution": {
     "iopub.execute_input": "2022-09-23T12:25:50.519276Z",
     "iopub.status.busy": "2022-09-23T12:25:50.518464Z",
     "iopub.status.idle": "2022-09-23T12:25:50.813755Z",
     "shell.execute_reply": "2022-09-23T12:25:50.812527Z"
    },
    "papermill": {
     "duration": 0.31235,
     "end_time": "2022-09-23T12:25:50.816547",
     "exception": false,
     "start_time": "2022-09-23T12:25:50.504197",
     "status": "completed"
    },
    "tags": []
   },
   "outputs": [
    {
     "data": {
      "application/javascript": [
       "parent.postMessage({\"jupyterEvent\": \"custom.exercise_interaction\", \"data\": {\"outcomeType\": 1, \"valueTowardsCompletion\": 0.3333333333333333, \"interactionType\": 1, \"questionType\": 2, \"questionId\": \"5_ColorScatter\", \"learnToolsVersion\": \"0.3.4\", \"failureMessage\": \"\", \"exceptionClass\": \"\", \"trace\": \"\"}}, \"*\")"
      ],
      "text/plain": [
       "<IPython.core.display.Javascript object>"
      ]
     },
     "metadata": {},
     "output_type": "display_data"
    },
    {
     "data": {
      "text/markdown": [
       "<span style=\"color:#33cc33\">Correct</span>"
      ],
      "text/plain": [
       "Correct"
      ]
     },
     "metadata": {},
     "output_type": "display_data"
    },
    {
     "data": {
      "image/png": "[encoded data removed]",
      "text/plain": [
       "<Figure size 432x288 with 1 Axes>"
      ]
     },
     "metadata": {
      "needs_background": "light"
     },
     "output_type": "display_data"
    }
   ],
   "source": [
    "# Scatter plot showing the relationship between 'pricepercent', 'winpercent', and 'chocolate'\n",
    "sns.scatterplot(x=candy_data['pricepercent'], y=candy_data['winpercent'], hue=candy_data['chocolate'])\n",
    "\n",
    "# Check your answer\n",
    "step_5.check()"
   ]
  },
  {
   "cell_type": "code",
   "execution_count": 17,
   "id": "90b54c05",
   "metadata": {
    "execution": {
     "iopub.execute_input": "2022-09-23T12:25:50.845121Z",
     "iopub.status.busy": "2022-09-23T12:25:50.844617Z",
     "iopub.status.idle": "2022-09-23T12:25:51.151044Z",
     "shell.execute_reply": "2022-09-23T12:25:51.150056Z"
    },
    "papermill": {
     "duration": 0.323282,
     "end_time": "2022-09-23T12:25:51.153424",
     "exception": false,
     "start_time": "2022-09-23T12:25:50.830142",
     "status": "completed"
    },
    "tags": []
   },
   "outputs": [
    {
     "data": {
      "application/javascript": [
       "parent.postMessage({\"jupyterEvent\": \"custom.exercise_interaction\", \"data\": {\"interactionType\": 3, \"questionType\": 2, \"questionId\": \"5_ColorScatter\", \"learnToolsVersion\": \"0.3.4\", \"valueTowardsCompletion\": 0.0, \"failureMessage\": \"\", \"exceptionClass\": \"\", \"trace\": \"\", \"outcomeType\": 4}}, \"*\")"
      ],
      "text/plain": [
       "<IPython.core.display.Javascript object>"
      ]
     },
     "metadata": {},
     "output_type": "display_data"
    },
    {
     "data": {
      "text/markdown": [
       "<span style=\"color:#33cc99\">Solution:</span> \n",
       "```python\n",
       "# Scatter plot showing the relationship between 'pricepercent', 'winpercent', and 'chocolate'\n",
       "sns.scatterplot(x=candy_data['pricepercent'], y=candy_data['winpercent'], hue=candy_data['chocolate'])\n",
       "\n",
       "```"
      ],
      "text/plain": [
       "Solution: \n",
       "```python\n",
       "# Scatter plot showing the relationship between 'pricepercent', 'winpercent', and 'chocolate'\n",
       "sns.scatterplot(x=candy_data['pricepercent'], y=candy_data['winpercent'], hue=candy_data['chocolate'])\n",
       "\n",
       "```"
      ]
     },
     "metadata": {},
     "output_type": "display_data"
    },
    {
     "data": {
      "image/png": "[encoded data removed]",
      "text/plain": [
       "<Figure size 432x288 with 1 Axes>"
      ]
     },
     "metadata": {
      "needs_background": "light"
     },
     "output_type": "display_data"
    }
   ],
   "source": [
    "# Lines below will give you a hint or solution code\n",
    "#step_5.hint()\n",
    "step_5.solution_plot()"
   ]
  },
  {
   "cell_type": "markdown",
   "id": "3010304e",
   "metadata": {
    "papermill": {
     "duration": 0.013833,
     "end_time": "2022-09-23T12:25:51.181339",
     "exception": false,
     "start_time": "2022-09-23T12:25:51.167506",
     "status": "completed"
    },
    "tags": []
   },
   "source": [
    "Can you see any interesting patterns in the scatter plot?  We'll investigate this plot further  by adding regression lines in the next step!\n",
    "\n",
    "## Step 6: Investigate chocolate\n",
    "\n",
    "#### Part A\n",
    "\n",
    "Create the same scatter plot you created in **Step 5**, but now with two regression lines, corresponding to (1) chocolate candies and (2) candies without chocolate."
   ]
  },
  {
   "cell_type": "code",
   "execution_count": 18,
   "id": "459a892c",
   "metadata": {
    "execution": {
     "iopub.execute_input": "2022-09-23T12:25:51.212177Z",
     "iopub.status.busy": "2022-09-23T12:25:51.210922Z",
     "iopub.status.idle": "2022-09-23T12:25:51.811328Z",
     "shell.execute_reply": "2022-09-23T12:25:51.810152Z"
    },
    "papermill": {
     "duration": 0.618644,
     "end_time": "2022-09-23T12:25:51.814259",
     "exception": false,
     "start_time": "2022-09-23T12:25:51.195615",
     "status": "completed"
    },
    "tags": []
   },
   "outputs": [
    {
     "data": {
      "application/javascript": [
       "parent.postMessage({\"jupyterEvent\": \"custom.exercise_interaction\", \"data\": {\"outcomeType\": 1, \"valueTowardsCompletion\": 0.3333333333333333, \"interactionType\": 1, \"questionType\": 2, \"questionId\": \"6.1_PlotColorReg\", \"learnToolsVersion\": \"0.3.4\", \"failureMessage\": \"\", \"exceptionClass\": \"\", \"trace\": \"\"}}, \"*\")"
      ],
      "text/plain": [
       "<IPython.core.display.Javascript object>"
      ]
     },
     "metadata": {},
     "output_type": "display_data"
    },
    {
     "data": {
      "text/markdown": [
       "<span style=\"color:#33cc33\">Correct</span>"
      ],
      "text/plain": [
       "Correct"
      ]
     },
     "metadata": {},
     "output_type": "display_data"
    },
    {
     "data": {
      "image/png": "[encoded data removed]",
      "text/plain": [
       "<Figure size 416.375x360 with 1 Axes>"
      ]
     },
     "metadata": {
      "needs_background": "light"
     },
     "output_type": "display_data"
    }
   ],
   "source": [
    "# Color-coded scatter plot w/ regression lines\n",
    "sns.lmplot(x=\"pricepercent\", y=\"winpercent\", hue=\"chocolate\", data=candy_data)\n",
    "\n",
    "# Check your answer\n",
    "step_6.a.check()"
   ]
  },
  {
   "cell_type": "code",
   "execution_count": 19,
   "id": "a8acf23d",
   "metadata": {
    "execution": {
     "iopub.execute_input": "2022-09-23T12:25:51.847425Z",
     "iopub.status.busy": "2022-09-23T12:25:51.845961Z",
     "iopub.status.idle": "2022-09-23T12:25:52.437797Z",
     "shell.execute_reply": "2022-09-23T12:25:52.436779Z"
    },
    "papermill": {
     "duration": 0.611346,
     "end_time": "2022-09-23T12:25:52.441215",
     "exception": false,
     "start_time": "2022-09-23T12:25:51.829869",
     "status": "completed"
    },
    "tags": []
   },
   "outputs": [
    {
     "data": {
      "application/javascript": [
       "parent.postMessage({\"jupyterEvent\": \"custom.exercise_interaction\", \"data\": {\"interactionType\": 3, \"questionType\": 2, \"questionId\": \"6.1_PlotColorReg\", \"learnToolsVersion\": \"0.3.4\", \"valueTowardsCompletion\": 0.0, \"failureMessage\": \"\", \"exceptionClass\": \"\", \"trace\": \"\", \"outcomeType\": 4}}, \"*\")"
      ],
      "text/plain": [
       "<IPython.core.display.Javascript object>"
      ]
     },
     "metadata": {},
     "output_type": "display_data"
    },
    {
     "data": {
      "text/markdown": [
       "<span style=\"color:#33cc99\">Solution:</span> \n",
       "```python\n",
       "# Color-coded scatter plot w/ regression lines\n",
       "sns.lmplot(x=\"pricepercent\", y=\"winpercent\", hue=\"chocolate\", data=candy_data)\n",
       "\n",
       "```"
      ],
      "text/plain": [
       "Solution: \n",
       "```python\n",
       "# Color-coded scatter plot w/ regression lines\n",
       "sns.lmplot(x=\"pricepercent\", y=\"winpercent\", hue=\"chocolate\", data=candy_data)\n",
       "\n",
       "```"
      ]
     },
     "metadata": {},
     "output_type": "display_data"
    },
    {
     "data": {
      "image/png": "[encoded data removed]",
      "text/plain": [
       "<Figure size 416.375x360 with 1 Axes>"
      ]
     },
     "metadata": {
      "needs_background": "light"
     },
     "output_type": "display_data"
    }
   ],
   "source": [
    "# Lines below will give you a hint or solution code\n",
    "#step_6.a.hint()\n",
    "step_6.a.solution_plot()"
   ]
  },
  {
   "cell_type": "markdown",
   "id": "ac0feeea",
   "metadata": {
    "papermill": {
     "duration": 0.014382,
     "end_time": "2022-09-23T12:25:52.470353",
     "exception": false,
     "start_time": "2022-09-23T12:25:52.455971",
     "status": "completed"
    },
    "tags": []
   },
   "source": [
    "#### Part B\n",
    "\n",
    "Using the regression lines, what conclusions can you draw about the effects of chocolate and price on candy popularity?"
   ]
  },
  {
   "cell_type": "code",
   "execution_count": 20,
   "id": "b2e9a123",
   "metadata": {
    "execution": {
     "iopub.execute_input": "2022-09-23T12:25:52.502368Z",
     "iopub.status.busy": "2022-09-23T12:25:52.501308Z",
     "iopub.status.idle": "2022-09-23T12:25:52.506409Z",
     "shell.execute_reply": "2022-09-23T12:25:52.505462Z"
    },
    "papermill": {
     "duration": 0.023507,
     "end_time": "2022-09-23T12:25:52.508646",
     "exception": false,
     "start_time": "2022-09-23T12:25:52.485139",
     "status": "completed"
    },
    "tags": []
   },
   "outputs": [],
   "source": [
    "#step_6.b.hint()"
   ]
  },
  {
   "cell_type": "code",
   "execution_count": 21,
   "id": "37aa3292",
   "metadata": {
    "execution": {
     "iopub.execute_input": "2022-09-23T12:25:52.540893Z",
     "iopub.status.busy": "2022-09-23T12:25:52.540498Z",
     "iopub.status.idle": "2022-09-23T12:25:52.549922Z",
     "shell.execute_reply": "2022-09-23T12:25:52.548593Z"
    },
    "papermill": {
     "duration": 0.028623,
     "end_time": "2022-09-23T12:25:52.552315",
     "exception": false,
     "start_time": "2022-09-23T12:25:52.523692",
     "status": "completed"
    },
    "tags": []
   },
   "outputs": [
    {
     "data": {
      "application/javascript": [
       "parent.postMessage({\"jupyterEvent\": \"custom.exercise_interaction\", \"data\": {\"interactionType\": 3, \"questionType\": 4, \"questionId\": \"6.2_ThinkColorReg\", \"learnToolsVersion\": \"0.3.4\", \"valueTowardsCompletion\": 0.0, \"failureMessage\": \"\", \"exceptionClass\": \"\", \"trace\": \"\", \"outcomeType\": 4}}, \"*\")"
      ],
      "text/plain": [
       "<IPython.core.display.Javascript object>"
      ]
     },
     "metadata": {},
     "output_type": "display_data"
    },
    {
     "data": {
      "text/markdown": [
       "<span style=\"color:#33cc99\">Solution:</span> We'll begin with the regression line for chocolate candies. Since this line has a slightly positive slope, we can say that more expensive chocolate candies tend to be more popular (than relatively cheaper chocolate candies).  Likewise, since the regression line for candies without chocolate has a negative slope, we can say that if candies don't contain chocolate, they tend to be more popular when they are cheaper.  One important note, however, is that the dataset is quite small -- so we shouldn't invest too much trust in these patterns!  To inspire more confidence in the results, we should add more candies to the dataset."
      ],
      "text/plain": [
       "Solution: We'll begin with the regression line for chocolate candies. Since this line has a slightly positive slope, we can say that more expensive chocolate candies tend to be more popular (than relatively cheaper chocolate candies).  Likewise, since the regression line for candies without chocolate has a negative slope, we can say that if candies don't contain chocolate, they tend to be more popular when they are cheaper.  One important note, however, is that the dataset is quite small -- so we shouldn't invest too much trust in these patterns!  To inspire more confidence in the results, we should add more candies to the dataset."
      ]
     },
     "metadata": {},
     "output_type": "display_data"
    }
   ],
   "source": [
    "# Check your answer (Run this code cell to receive credit!)\n",
    "step_6.b.solution()"
   ]
  },
  {
   "cell_type": "markdown",
   "id": "ac867bd0",
   "metadata": {
    "papermill": {
     "duration": 0.015313,
     "end_time": "2022-09-23T12:25:52.583236",
     "exception": false,
     "start_time": "2022-09-23T12:25:52.567923",
     "status": "completed"
    },
    "tags": []
   },
   "source": [
    "## Step 7: Everybody loves chocolate.\n",
    "\n",
    "#### Part A\n",
    "\n",
    "Create a categorical scatter plot to highlight the relationship between `'chocolate'` and `'winpercent'`.  Put `'chocolate'` on the (horizontal) x-axis, and `'winpercent'` on the (vertical) y-axis."
   ]
  },
  {
   "cell_type": "code",
   "execution_count": 22,
   "id": "912ec01c",
   "metadata": {
    "execution": {
     "iopub.execute_input": "2022-09-23T12:25:52.616203Z",
     "iopub.status.busy": "2022-09-23T12:25:52.615532Z",
     "iopub.status.idle": "2022-09-23T12:25:52.827112Z",
     "shell.execute_reply": "2022-09-23T12:25:52.825461Z"
    },
    "papermill": {
     "duration": 0.231314,
     "end_time": "2022-09-23T12:25:52.829971",
     "exception": false,
     "start_time": "2022-09-23T12:25:52.598657",
     "status": "completed"
    },
    "tags": []
   },
   "outputs": [
    {
     "data": {
      "application/javascript": [
       "parent.postMessage({\"jupyterEvent\": \"custom.exercise_interaction\", \"data\": {\"outcomeType\": 1, \"valueTowardsCompletion\": 0.3333333333333333, \"interactionType\": 1, \"questionType\": 2, \"questionId\": \"7.1_PlotSwarm\", \"learnToolsVersion\": \"0.3.4\", \"failureMessage\": \"\", \"exceptionClass\": \"\", \"trace\": \"\"}}, \"*\")"
      ],
      "text/plain": [
       "<IPython.core.display.Javascript object>"
      ]
     },
     "metadata": {},
     "output_type": "display_data"
    },
    {
     "data": {
      "text/markdown": [
       "<span style=\"color:#33cc33\">Correct</span>"
      ],
      "text/plain": [
       "Correct"
      ]
     },
     "metadata": {},
     "output_type": "display_data"
    },
    {
     "data": {
      "image/png": "[encoded data removed]",
      "text/plain": [
       "<Figure size 432x288 with 1 Axes>"
      ]
     },
     "metadata": {
      "needs_background": "light"
     },
     "output_type": "display_data"
    }
   ],
   "source": [
    "# Scatter plot showing the relationship between 'chocolate' and 'winpercent'\n",
    "sns.swarmplot(x=candy_data['chocolate'], y=candy_data['winpercent'])\n",
    "\n",
    "# Check your answer\n",
    "step_7.a.check()"
   ]
  },
  {
   "cell_type": "code",
   "execution_count": 23,
   "id": "f4ac1e2d",
   "metadata": {
    "execution": {
     "iopub.execute_input": "2022-09-23T12:25:52.867954Z",
     "iopub.status.busy": "2022-09-23T12:25:52.867023Z",
     "iopub.status.idle": "2022-09-23T12:25:53.073937Z",
     "shell.execute_reply": "2022-09-23T12:25:53.072674Z"
    },
    "papermill": {
     "duration": 0.229073,
     "end_time": "2022-09-23T12:25:53.076885",
     "exception": false,
     "start_time": "2022-09-23T12:25:52.847812",
     "status": "completed"
    },
    "tags": []
   },
   "outputs": [
    {
     "data": {
      "application/javascript": [
       "parent.postMessage({\"jupyterEvent\": \"custom.exercise_interaction\", \"data\": {\"interactionType\": 3, \"questionType\": 2, \"questionId\": \"7.1_PlotSwarm\", \"learnToolsVersion\": \"0.3.4\", \"valueTowardsCompletion\": 0.0, \"failureMessage\": \"\", \"exceptionClass\": \"\", \"trace\": \"\", \"outcomeType\": 4}}, \"*\")"
      ],
      "text/plain": [
       "<IPython.core.display.Javascript object>"
      ]
     },
     "metadata": {},
     "output_type": "display_data"
    },
    {
     "data": {
      "text/markdown": [
       "<span style=\"color:#33cc99\">Solution:</span> \n",
       "```python\n",
       "# Scatter plot showing the relationship between 'chocolate' and 'winpercent'\n",
       "sns.swarmplot(x=candy_data['chocolate'], y=candy_data['winpercent'])\n",
       "\n",
       "```"
      ],
      "text/plain": [
       "Solution: \n",
       "```python\n",
       "# Scatter plot showing the relationship between 'chocolate' and 'winpercent'\n",
       "sns.swarmplot(x=candy_data['chocolate'], y=candy_data['winpercent'])\n",
       "\n",
       "```"
      ]
     },
     "metadata": {},
     "output_type": "display_data"
    },
    {
     "data": {
      "image/png": "[encoded data removed]",
      "text/plain": [
       "<Figure size 432x288 with 1 Axes>"
      ]
     },
     "metadata": {
      "needs_background": "light"
     },
     "output_type": "display_data"
    }
   ],
   "source": [
    "# Lines below will give you a hint or solution code\n",
    "#step_7.a.hint()\n",
    "step_7.a.solution_plot()"
   ]
  },
  {
   "cell_type": "markdown",
   "id": "e9c53f8a",
   "metadata": {
    "papermill": {
     "duration": 0.016919,
     "end_time": "2022-09-23T12:25:53.111470",
     "exception": false,
     "start_time": "2022-09-23T12:25:53.094551",
     "status": "completed"
    },
    "tags": []
   },
   "source": [
    "#### Part B\n",
    "\n",
    "You decide to dedicate a section of your report to the fact that chocolate candies tend to be more popular than candies without chocolate.  Which plot is more appropriate to tell this story: the plot from **Step 6**, or the plot from **Step 7**?"
   ]
  },
  {
   "cell_type": "code",
   "execution_count": 24,
   "id": "db02bfa6",
   "metadata": {
    "execution": {
     "iopub.execute_input": "2022-09-23T12:25:53.147441Z",
     "iopub.status.busy": "2022-09-23T12:25:53.146978Z",
     "iopub.status.idle": "2022-09-23T12:25:53.151584Z",
     "shell.execute_reply": "2022-09-23T12:25:53.150393Z"
    },
    "papermill": {
     "duration": 0.026329,
     "end_time": "2022-09-23T12:25:53.154253",
     "exception": false,
     "start_time": "2022-09-23T12:25:53.127924",
     "status": "completed"
    },
    "tags": []
   },
   "outputs": [],
   "source": [
    "#step_7.b.hint()"
   ]
  },
  {
   "cell_type": "code",
   "execution_count": 25,
   "id": "6b2e4131",
   "metadata": {
    "execution": {
     "iopub.execute_input": "2022-09-23T12:25:53.191202Z",
     "iopub.status.busy": "2022-09-23T12:25:53.190107Z",
     "iopub.status.idle": "2022-09-23T12:25:53.200180Z",
     "shell.execute_reply": "2022-09-23T12:25:53.198885Z"
    },
    "papermill": {
     "duration": 0.031225,
     "end_time": "2022-09-23T12:25:53.202608",
     "exception": false,
     "start_time": "2022-09-23T12:25:53.171383",
     "status": "completed"
    },
    "tags": []
   },
   "outputs": [
    {
     "data": {
      "application/javascript": [
       "parent.postMessage({\"jupyterEvent\": \"custom.exercise_interaction\", \"data\": {\"interactionType\": 3, \"questionType\": 4, \"questionId\": \"7.2_ThinkSwarm\", \"learnToolsVersion\": \"0.3.4\", \"valueTowardsCompletion\": 0.0, \"failureMessage\": \"\", \"exceptionClass\": \"\", \"trace\": \"\", \"outcomeType\": 4}}, \"*\")"
      ],
      "text/plain": [
       "<IPython.core.display.Javascript object>"
      ]
     },
     "metadata": {},
     "output_type": "display_data"
    },
    {
     "data": {
      "text/markdown": [
       "<span style=\"color:#33cc99\">Solution:</span> In this case, the categorical scatter plot from **Step 7** is the more appropriate plot. While both plots tell the desired story, the plot from **Step 6** conveys far more information that could distract from the main point."
      ],
      "text/plain": [
       "Solution: In this case, the categorical scatter plot from **Step 7** is the more appropriate plot. While both plots tell the desired story, the plot from **Step 6** conveys far more information that could distract from the main point."
      ]
     },
     "metadata": {},
     "output_type": "display_data"
    }
   ],
   "source": [
    "# Check your answer (Run this code cell to receive credit!)\n",
    "step_7.b.solution()"
   ]
  },
  {
   "cell_type": "markdown",
   "id": "714da06b",
   "metadata": {
    "papermill": {
     "duration": 0.016438,
     "end_time": "2022-09-23T12:25:53.236241",
     "exception": false,
     "start_time": "2022-09-23T12:25:53.219803",
     "status": "completed"
    },
    "tags": []
   },
   "source": [
    "## Keep going\n",
    "\n",
    "Explore **[histograms and density plots](https://www.kaggle.com/alexisbcook/distributions)**."
   ]
  },
  {
   "cell_type": "markdown",
   "id": "69966705",
   "metadata": {
    "papermill": {
     "duration": 0.016838,
     "end_time": "2022-09-23T12:25:53.270224",
     "exception": false,
     "start_time": "2022-09-23T12:25:53.253386",
     "status": "completed"
    },
    "tags": []
   },
   "source": [
    "---\n",
    "\n",
    "\n",
    "\n",
    "\n",
    "*Have questions or comments? Visit the [course discussion forum](https://www.kaggle.com/learn/data-visualization/discussion) to chat with other learners.*"
   ]
  }
 ],
 "metadata": {
  "kernelspec": {
   "display_name": "Python 3",
   "language": "python",
   "name": "python3"
  },
  "language_info": {
   "codemirror_mode": {
    "name": "ipython",
    "version": 3
   },
   "file_extension": ".py",
   "mimetype": "text/x-python",
   "name": "python",
   "nbconvert_exporter": "python",
   "pygments_lexer": "ipython3",
   "version": "3.7.12"
  },
  "papermill": {
   "default_parameters": {},
   "duration": 15.938095,
   "end_time": "2022-09-23T12:25:54.009587",
   "environment_variables": {},
   "exception": null,
   "input_path": "__notebook__.ipynb",
   "output_path": "__notebook__.ipynb",
   "parameters": {},
   "start_time": "2022-09-23T12:25:38.071492",
   "version": "2.3.4"
  }
 },
 "nbformat": 4,
 "nbformat_minor": 5
}
